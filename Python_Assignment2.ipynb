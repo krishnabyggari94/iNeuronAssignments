{
  "nbformat": 4,
  "nbformat_minor": 0,
  "metadata": {
    "colab": {
      "name": "Python_Assignment2.ipynb",
      "provenance": [],
      "collapsed_sections": []
    },
    "kernelspec": {
      "name": "python3",
      "display_name": "Python 3"
    }
  },
  "cells": [
    {
      "cell_type": "markdown",
      "metadata": {
        "id": "q7zao6vnh0Zk",
        "colab_type": "text"
      },
      "source": [
        "1)"
      ]
    },
    {
      "cell_type": "code",
      "metadata": {
        "id": "38JEYb-Zh1Mc",
        "colab_type": "code",
        "colab": {
          "base_uri": "https://localhost:8080/",
          "height": 187
        },
        "outputId": "fccd5c25-e98d-492f-fb97-a581ed816621"
      },
      "source": [
        "for i in range(5):\n",
        "  for j in range(i):\n",
        "    print('*',end='')\n",
        "  print('',end='\\n')\n",
        "for i in range(5,0,-1):\n",
        "  for j in range(i):\n",
        "    print('*',end='')\n",
        "  print('',end='\\n')"
      ],
      "execution_count": 8,
      "outputs": [
        {
          "output_type": "stream",
          "text": [
            "\n",
            "*\n",
            "**\n",
            "***\n",
            "****\n",
            "*****\n",
            "****\n",
            "***\n",
            "**\n",
            "*\n"
          ],
          "name": "stdout"
        }
      ]
    },
    {
      "cell_type": "markdown",
      "metadata": {
        "id": "2BpgRU_LmA1r",
        "colab_type": "text"
      },
      "source": [
        "2)"
      ]
    },
    {
      "cell_type": "code",
      "metadata": {
        "id": "tkytDxH0igcL",
        "colab_type": "code",
        "colab": {
          "base_uri": "https://localhost:8080/",
          "height": 51
        },
        "outputId": "1c24684c-ec30-43ae-abf7-21ce360305b2"
      },
      "source": [
        "word=str(input('Please enter the word to reverse:'))\n",
        "rev_word=word[::-1]\n",
        "print('The reverse of the word ',word,' is:',rev_word)"
      ],
      "execution_count": 9,
      "outputs": [
        {
          "output_type": "stream",
          "text": [
            "Please enter the word to reverse:iNeuron\n",
            "The reverse of the word  iNeuron  is: norueNi\n"
          ],
          "name": "stdout"
        }
      ]
    },
    {
      "cell_type": "code",
      "metadata": {
        "id": "_IHUIT6TmldS",
        "colab_type": "code",
        "colab": {}
      },
      "source": [
        ""
      ],
      "execution_count": null,
      "outputs": []
    }
  ]
}