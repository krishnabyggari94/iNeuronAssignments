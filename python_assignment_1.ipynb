{
  "nbformat": 4,
  "nbformat_minor": 0,
  "metadata": {
    "colab": {
      "name": "python assignment 1.ipynb",
      "provenance": [],
      "collapsed_sections": []
    },
    "kernelspec": {
      "name": "python3",
      "display_name": "Python 3"
    }
  },
  "cells": [
    {
      "cell_type": "markdown",
      "metadata": {
        "id": "bBCEE9YIXrAW",
        "colab_type": "text"
      },
      "source": [
        "1) "
      ]
    },
    {
      "cell_type": "code",
      "metadata": {
        "id": "Jdh2SkOvXpMn",
        "colab_type": "code",
        "colab": {
          "base_uri": "https://localhost:8080/",
          "height": 54
        },
        "outputId": "217033ec-6ae3-44d8-f6b9-cc51fdb97d2e"
      },
      "source": [
        "for x in range(2000,3201):\n",
        "  #print(x)\n",
        "  #print(x%7,',',x%5)\n",
        "  if x%7==0 and x%5!=0:\n",
        "    print(x,end=',')"
      ],
      "execution_count": 1,
      "outputs": [
        {
          "output_type": "stream",
          "text": [
            "2002,2009,2016,2023,2037,2044,2051,2058,2072,2079,2086,2093,2107,2114,2121,2128,2142,2149,2156,2163,2177,2184,2191,2198,2212,2219,2226,2233,2247,2254,2261,2268,2282,2289,2296,2303,2317,2324,2331,2338,2352,2359,2366,2373,2387,2394,2401,2408,2422,2429,2436,2443,2457,2464,2471,2478,2492,2499,2506,2513,2527,2534,2541,2548,2562,2569,2576,2583,2597,2604,2611,2618,2632,2639,2646,2653,2667,2674,2681,2688,2702,2709,2716,2723,2737,2744,2751,2758,2772,2779,2786,2793,2807,2814,2821,2828,2842,2849,2856,2863,2877,2884,2891,2898,2912,2919,2926,2933,2947,2954,2961,2968,2982,2989,2996,3003,3017,3024,3031,3038,3052,3059,3066,3073,3087,3094,3101,3108,3122,3129,3136,3143,3157,3164,3171,3178,3192,3199,"
          ],
          "name": "stdout"
        }
      ]
    },
    {
      "cell_type": "markdown",
      "metadata": {
        "id": "hDMHXK0XedW2",
        "colab_type": "text"
      },
      "source": [
        "2)"
      ]
    },
    {
      "cell_type": "code",
      "metadata": {
        "id": "gW7vGmL6aiZm",
        "colab_type": "code",
        "colab": {
          "base_uri": "https://localhost:8080/",
          "height": 68
        },
        "outputId": "ba3dfa39-9a89-4555-a02b-599c28ca23a6"
      },
      "source": [
        "first_name=str(input('Enter First Name:'))\n",
        "last_name=str(input('Enter Last Name:'))\n",
        "print(first_name[::-1],' ',last_name[::-1])"
      ],
      "execution_count": 2,
      "outputs": [
        {
          "output_type": "stream",
          "text": [
            "Enter First Name:Nikola\n",
            "Enter Last Name:Tesla\n",
            "alokiN   alseT\n"
          ],
          "name": "stdout"
        }
      ]
    },
    {
      "cell_type": "markdown",
      "metadata": {
        "id": "fuCYOB25ef2F",
        "colab_type": "text"
      },
      "source": [
        "3)"
      ]
    },
    {
      "cell_type": "code",
      "metadata": {
        "id": "st4pIgQodcxx",
        "colab_type": "code",
        "colab": {
          "base_uri": "https://localhost:8080/",
          "height": 34
        },
        "outputId": "bbf28bd1-74e2-4f54-af3d-d6a693dbdaf0"
      },
      "source": [
        "import math\n",
        "diameter=12\n",
        "radius=int(diameter/2)\n",
        "volume=(4/3)* (math.pi) *(radius**3)\n",
        "print('Volume of Sphere of radius 12 cms is ',volume,' cubic cms')"
      ],
      "execution_count": 3,
      "outputs": [
        {
          "output_type": "stream",
          "text": [
            "Volume of Sphere of radius 12 cms is  904.7786842338603  cubic cms\n"
          ],
          "name": "stdout"
        }
      ]
    },
    {
      "cell_type": "code",
      "metadata": {
        "id": "2MVdFYnzfC6X",
        "colab_type": "code",
        "colab": {}
      },
      "source": [
        ""
      ],
      "execution_count": 3,
      "outputs": []
    }
  ]
}