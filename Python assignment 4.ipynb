{
 "cells": [
  {
   "cell_type": "markdown",
   "metadata": {},
   "source": [
    "1.1)"
   ]
  },
  {
   "cell_type": "code",
   "execution_count": 9,
   "metadata": {},
   "outputs": [],
   "source": [
    "import math\n",
    "class triangle():\n",
    "    def input_sides(self,a,b,c):\n",
    "        self.a=a\n",
    "        self.b=b\n",
    "        self.c=c\n",
    "class area(triangle):\n",
    "    def calc(self):\n",
    "        s=(self.a+self.b+self.c)/2\n",
    "        val=math.sqrt(s*(s-self.a)*(s-self.b)*(s-self.c))\n",
    "        print('area of traingle is {}'.format(val))\n",
    "        "
   ]
  },
  {
   "cell_type": "code",
   "execution_count": 10,
   "metadata": {},
   "outputs": [
    {
     "name": "stdout",
     "output_type": "stream",
     "text": [
      "area of traingle is 14.696938456699069\n"
     ]
    }
   ],
   "source": [
    "obj=area()\n",
    "obj.input_sides(5,6,7)\n",
    "obj.calc()"
   ]
  },
  {
   "cell_type": "markdown",
   "metadata": {},
   "source": [
    "1.2)"
   ]
  },
  {
   "cell_type": "code",
   "execution_count": 11,
   "metadata": {},
   "outputs": [
    {
     "data": {
      "text/plain": [
       "['apple', 'python', 'dataset']"
      ]
     },
     "execution_count": 11,
     "metadata": {},
     "output_type": "execute_result"
    }
   ],
   "source": [
    "def filter_long_words(list1,num):\n",
    "    ret=[]\n",
    "    for val in list1:\n",
    "        if (type(val)==str) & (len(val)>num):\n",
    "            ret.append(val)\n",
    "    return ret\n",
    "filter_long_words(['apple','dog','cat','python','java','dataset'],4)"
   ]
  },
  {
   "cell_type": "markdown",
   "metadata": {},
   "source": [
    "2.1)"
   ]
  },
  {
   "cell_type": "code",
   "execution_count": 12,
   "metadata": {},
   "outputs": [
    {
     "data": {
      "text/plain": [
       "[5, 3, 3, 6, 4, 7]"
      ]
     },
     "execution_count": 12,
     "metadata": {},
     "output_type": "execute_result"
    }
   ],
   "source": [
    "def map_words(list1):\n",
    "    ret=[]\n",
    "    for val in list1:\n",
    "        if type(val)==str:\n",
    "            ret.append(len(val))\n",
    "    return ret\n",
    "map_words(['apple','dog','cat','python','java','dataset'])"
   ]
  },
  {
   "cell_type": "code",
   "execution_count": 17,
   "metadata": {},
   "outputs": [
    {
     "name": "stdout",
     "output_type": "stream",
     "text": [
      "True\n",
      "True\n",
      "False\n",
      "True\n"
     ]
    }
   ],
   "source": [
    "def vowel_check(char):\n",
    "    vowel_list=['a','e','i','o','u']\n",
    "    if char.lower() in vowel_list:\n",
    "        return True\n",
    "    else:\n",
    "        return False\n",
    "print(vowel_check('A'))\n",
    "print(vowel_check('i'))\n",
    "print(vowel_check('x'))\n",
    "print(vowel_check('U'))"
   ]
  },
  {
   "cell_type": "code",
   "execution_count": null,
   "metadata": {},
   "outputs": [],
   "source": []
  },
  {
   "cell_type": "code",
   "execution_count": null,
   "metadata": {},
   "outputs": [],
   "source": []
  },
  {
   "cell_type": "code",
   "execution_count": null,
   "metadata": {},
   "outputs": [],
   "source": []
  }
 ],
 "metadata": {
  "kernelspec": {
   "display_name": "Python [conda env:root] *",
   "language": "python",
   "name": "conda-root-py"
  },
  "language_info": {
   "codemirror_mode": {
    "name": "ipython",
    "version": 3
   },
   "file_extension": ".py",
   "mimetype": "text/x-python",
   "name": "python",
   "nbconvert_exporter": "python",
   "pygments_lexer": "ipython3",
   "version": "3.7.6"
  }
 },
 "nbformat": 4,
 "nbformat_minor": 4
}
